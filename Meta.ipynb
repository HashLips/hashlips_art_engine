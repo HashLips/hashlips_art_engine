{
 "cells": [
  {
   "cell_type": "code",
   "execution_count": 8,
   "source": [
    "import json\n",
    "import os\n",
    "\n",
    "directory = 'build/json'\n",
    "\n",
    "MYDIR = (\"build/updated_json\")\n",
    "CHECK_FOLDER = os.path.isdir(MYDIR)\n",
    "\n",
    "# If folder doesn't exist, then create it.\n",
    "if not CHECK_FOLDER:\n",
    "    os.makedirs(MYDIR)\n",
    "    print(\"created folder : \", MYDIR)\n",
    "\n",
    "else:\n",
    "    print(MYDIR, \"folder already exists.\") "
   ],
   "outputs": [
    {
     "output_type": "stream",
     "name": "stdout",
     "text": [
      "build/updated_json folder already exists.\n"
     ]
    }
   ],
   "metadata": {}
  },
  {
   "cell_type": "code",
   "execution_count": 10,
   "source": [
    "for filename in os.listdir(directory):\n",
    "    \n",
    "    if filename == \"_metadata.json\":\n",
    "        continue\n",
    "    \n",
    "    with open(f\"{directory}/{filename}\") as f:\n",
    "        data = json.load(f)\n",
    "        \n",
    "    data[\"date\"] = str(data[\"date\"])\n",
    "    data[\"name\"] = \"Alien \" + data[\"name\"]\n",
    "    data[\"edition\"] = str(data[\"edition\"])\n",
    "\n",
    "    attributes = data[\"attributes\"]\n",
    "    \n",
    "    for trait in attributes:\n",
    "        key = trait[\"trait_type\"]\n",
    "        if key.endswith(\"W\"):\n",
    "            key = key.rstrip(key[-1])  \n",
    "        value = trait[\"value\"]\n",
    "        data[key] = value\n",
    "        \n",
    "    data.pop('attributes', None)\n",
    "         \n",
    "    with open(f\"build/updated_json/{filename}\", 'w') as f:\n",
    "        json.dump(data, f, indent=2)\n",
    "    \n",
    "print(\"Finished Updating JSON\")"
   ],
   "outputs": [
    {
     "output_type": "stream",
     "name": "stdout",
     "text": [
      "Finished Updating JSON\n"
     ]
    }
   ],
   "metadata": {}
  },
  {
   "cell_type": "code",
   "execution_count": 32,
   "source": [
    "metafile = \"_metadata.json\"\n",
    "\n",
    "with open(f\"{directory}/{metafile}\") as f:\n",
    "    meta = json.load(f)\n",
    "    \n",
    "    new_meta = []\n",
    "    \n",
    "    for data in meta:\n",
    "\n",
    "        data[\"date\"] = str(data[\"date\"])\n",
    "        data[\"name\"] = \"Alien \" + data[\"name\"]\n",
    "        data[\"edition\"] = str(data[\"edition\"])\n",
    "\n",
    "        attributes = data[\"attributes\"]\n",
    "\n",
    "        for trait in attributes:\n",
    "            key = trait[\"trait_type\"]\n",
    "            if key.endswith(\"W\"):\n",
    "                key = key.rstrip(key[-1])  \n",
    "            value = trait[\"value\"]\n",
    "            data[key] = value\n",
    "            \n",
    "        data.pop('attributes', None)\n",
    "        new_meta.append(data)\n",
    "        \n",
    "        \n",
    "with open(f\"new{filename}\", 'w') as f:\n",
    "    json.dump(new_meta, f, indent=2)\n",
    "    \n",
    "print(filename)"
   ],
   "outputs": [
    {
     "output_type": "stream",
     "name": "stdout",
     "text": [
      "7960.json\n"
     ]
    }
   ],
   "metadata": {}
  }
 ],
 "metadata": {
  "interpreter": {
   "hash": "b0fa6594d8f4cbf19f97940f81e996739fb7646882a419484c72d19e05852a7e"
  },
  "kernelspec": {
   "display_name": "Python 3 (ipykernel)",
   "language": "python",
   "name": "python3"
  },
  "language_info": {
   "codemirror_mode": {
    "name": "ipython",
    "version": 3
   },
   "file_extension": ".py",
   "mimetype": "text/x-python",
   "name": "python",
   "nbconvert_exporter": "python",
   "pygments_lexer": "ipython3",
   "version": "3.8.2"
  }
 },
 "nbformat": 4,
 "nbformat_minor": 5
}